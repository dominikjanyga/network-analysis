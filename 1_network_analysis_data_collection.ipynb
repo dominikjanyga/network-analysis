{
  "cells": [
    {
      "cell_type": "markdown",
      "metadata": {
        "id": "view-in-github",
        "colab_type": "text"
      },
      "source": [
        "<a href=\"https://colab.research.google.com/github/dominikjanyga/network-analysis/blob/main/1_network_analysis_data_collection.ipynb\" target=\"_parent\"><img src=\"https://colab.research.google.com/assets/colab-badge.svg\" alt=\"Open In Colab\"/></a>"
      ]
    },
    {
      "cell_type": "markdown",
      "metadata": {
        "id": "63XUso6dd0J2"
      },
      "source": [
        "# 1. Loading libraries.\n",
        "In the first step, I imported libraries which will be helpful in data scraping and processing. I used `pandas` to read HTML tables from the [Stooq website](https://stooq.pl/), which lists all the components of the WIG index. Additionally, I used the `yfinance` library to obtain financial information on companies listed on the Warsaw Stock Exchange (WSE).\n"
      ]
    },
    {
      "cell_type": "code",
      "execution_count": 1,
      "metadata": {
        "id": "vUjPUpTwz2JS"
      },
      "outputs": [],
      "source": [
        "import pandas as pd\n",
        "import yfinance as yf"
      ]
    },
    {
      "cell_type": "markdown",
      "source": [
        "I mount Google Drive in a Google Colab environment. All the future data will be saved in my google drive, making it easy to access and load datasets."
      ],
      "metadata": {
        "id": "7LUbM_aoxaPv"
      }
    },
    {
      "cell_type": "code",
      "execution_count": 3,
      "metadata": {
        "colab": {
          "base_uri": "https://localhost:8080/"
        },
        "id": "6_he6_8CU_9Q",
        "outputId": "fe5e4d78-53a1-4a18-afae-b1a0ebffa20a"
      },
      "outputs": [
        {
          "output_type": "stream",
          "name": "stdout",
          "text": [
            "Drive already mounted at /content/drive; to attempt to forcibly remount, call drive.mount(\"/content/drive\", force_remount=True).\n"
          ]
        }
      ],
      "source": [
        "from google.colab import drive\n",
        "drive.mount('/content/drive')"
      ]
    },
    {
      "cell_type": "markdown",
      "metadata": {
        "id": "kAjxumwjEh8C"
      },
      "source": [
        "#2. Collecting Ticker Symbols from Stooq\n",
        "\n",
        "This step involves scraping ticker symbols for companies listed on the Warsaw Stock Exchange. By looping through Stooq’s HTML tables, I extract each ticker symbol, which represents a stock listed in the WSE, and save it to a list for later use."
      ]
    },
    {
      "cell_type": "code",
      "execution_count": 4,
      "metadata": {
        "colab": {
          "base_uri": "https://localhost:8080/"
        },
        "id": "zKH7KZ8MRJCm",
        "outputId": "3d9de3b8-7c9a-484c-c8a6-fbf32c566d5b"
      },
      "outputs": [
        {
          "output_type": "stream",
          "name": "stdout",
          "text": [
            "['06N', '11B', '1AT', '3RG', 'AAT', 'ABE', 'ABS', 'ACG', 'ACP', 'ACT', 'AGO', 'AGT', 'ALE', 'ALI', 'ALL', 'ALR', 'AMB', 'AMC', 'ANR', 'APE', 'APN', 'APR', 'APT', 'ARH', 'ART', 'ASB', 'ASE', 'AST', 'ATC', 'ATD', 'ATG', 'ATP', 'ATR', 'ATS', 'ATT', 'AWM', 'B24', 'BBD', 'BBT', 'BCM', 'BCS', 'BCX', 'BDX', 'BDZ', 'BFT', 'BHW', 'BIO', 'BIP', 'BLO', 'BMC', 'BMX', 'BNP', 'BOS', 'BOW', 'BRS', 'CAP', 'CAR', 'CAV', 'CBF', 'CCC', 'CDL', 'CDR', 'CEZ', 'CIG', 'CLC', 'CLD', 'CLE', 'CLN', 'CMP', 'COG', 'CPL', 'CPR', 'CPS', 'CRI', 'CRJ', 'CRM', 'CSR', 'CTX', 'DAD', 'DAT', 'DBE', 'DCR', 'DEK', 'DEL', 'DGA', 'DGE', 'DIG', 'DNP', 'DOM', 'DVL', 'EAH', 'EAT', 'ECH', 'EHG', 'EKP', 'ELT', 'ENA', 'ENE', 'ENI', 'ENT', 'EQU', 'ERB', 'ERG', 'ETL', 'EUR', 'FAB', 'FEE', 'FMG', 'FON', 'FRO', 'FSG', 'FTE', 'GEA', 'GIF', 'GKI', 'GMT', 'GOP', 'GPP', 'GPW', 'GRN', 'GRX', 'GTC', 'GTN', 'HDR', 'HEL', 'HRP', 'HUG', 'ICE', 'IFI', 'IIA', 'IMC', 'IMS', 'INC', 'ING', 'INK', 'INL', 'INP', 'IPE', 'IPO', 'ITB', 'IZO', 'IZS', 'JRH', 'JSW', 'KCI', 'KGH', 'KGN', 'KMP', 'KOM', 'KPD', 'KPL', 'KRK', 'KRU', 'KSG', 'KTY', 'KVT', 'LBT', 'LBW', 'LEN', 'LES', 'LKD', 'LPP', 'LRQ', 'LSI', 'LTX', 'LWB', 'MAB', 'MAK', 'MBK', 'MBR', 'MBW', 'MCI', 'MCR', 'MDG', 'MDI', 'MEX', 'MFO', 'MGT', 'MIL', 'MIR', 'MLG', 'MLK', 'MLS', 'MNC', 'MOC', 'MOL', 'MON', 'MOV', 'MRB', 'MRC', 'MSP', 'MSW', 'MSZ', 'MUR', 'MVP', 'MXC', 'MZA', 'NEU', 'NNG', 'NTC', 'NTT', 'NVA', 'NVG', 'NWG', 'NXG', 'ODL', 'OND', 'ONO', 'OPL', 'OPM', 'OPN', 'OTM', 'OTS', 'PAS', 'PAT', 'PBX', 'PCE', 'PCF', 'PCO', 'PCR', 'PEN', 'PEO', 'PEP', 'PGE', 'PGM', 'PGV', 'PHN', 'PHR', 'PJP', 'PKN', 'PKO', 'PLW', 'PLZ', 'PMP', 'PPS', 'PRI', 'PRM', 'PRT', 'PTG', 'PTW', 'PUR', 'PWX', 'PXM', 'PZU', 'QRS', 'RAE', 'RBW', 'RLP', 'RMK', 'RND', 'RNK', 'RPC', 'RVU', 'RWL', 'SAN', 'SCP', 'SEK', 'SEL', 'SFG', 'SFS', 'SGN', 'SHO', 'SIM', 'SKA', 'SKH', 'SKL', 'SLV', 'SNK', 'SNT', 'SNW', 'SNX', 'SON', 'SPH', 'SPL', 'SPR', 'STF', 'STP', 'STX', 'SVE', 'SVRS', 'SWG', 'TAR', 'TEN', 'THG', 'TLX', 'TOA', 'TOR', 'TPE', 'TRN', 'TSG', 'TXT', 'UCG', 'ULG', 'ULM', 'UNI', 'UNT', 'URT', 'VGO', 'VIN', 'VOT', 'VOX', 'VRC', 'VRG', 'VVD', 'WAS', 'WIK', 'WLT', 'WPL', 'WPR', 'WTN', 'WWL', 'WXF', 'XPL', 'XTB', 'XTP', 'YRL', 'ZAB', 'ZEP', 'ZMT', 'ZRE', 'ZUE']\n"
          ]
        },
        {
          "output_type": "execute_result",
          "data": {
            "text/plain": [
              "321"
            ]
          },
          "metadata": {},
          "execution_count": 4
        }
      ],
      "source": [
        "ticker_list = []\n",
        "\n",
        "for page in range(1, 9):\n",
        "    page_url = f\"https://stooq.pl/q/i/?s=wig&l={page}\"\n",
        "    wig_table = pd.read_html(page_url)[1]\n",
        "    wig_selected_rows = wig_table.iloc[5:-1, 0].tolist()\n",
        "    ticker_list.extend(wig_selected_rows)\n",
        "\n",
        "print(ticker_list)\n",
        "len(ticker_list)"
      ]
    },
    {
      "cell_type": "markdown",
      "source": [
        "In order to be able to access the data from `yfinance` library, we need to have the stock exchange suffix. I appended the \".WA\" to each ticker symbol in 'ticker_list', indicating that they are listed on the Warsaw Stock Exchange, and stores the modified symbols in a new list called tickers."
      ],
      "metadata": {
        "id": "9PXFOx6HSn-A"
      }
    },
    {
      "cell_type": "code",
      "execution_count": 5,
      "metadata": {
        "id": "tnY639f9EBDV"
      },
      "outputs": [],
      "source": [
        "tickers = [ticker + \".WA\" for ticker in ticker_list]"
      ]
    },
    {
      "cell_type": "markdown",
      "source": [
        "We use yfinance to search for the company details such as: sector, industry,companyOfficers, shortName, longName etc."
      ],
      "metadata": {
        "id": "WdCAAMcCgrkz"
      }
    },
    {
      "cell_type": "code",
      "execution_count": 2,
      "metadata": {
        "colab": {
          "base_uri": "https://localhost:8080/"
        },
        "id": "Nh1PK9cVPxFD",
        "outputId": "5f06ceef-885a-48d8-fa8c-29c64872d846",
        "collapsed": true
      },
      "outputs": [
        {
          "output_type": "execute_result",
          "data": {
            "text/plain": [
              "{'address1': 'ul. Ostrowska 122',\n",
              " 'city': 'Krotoszyn',\n",
              " 'zip': '63-700',\n",
              " 'country': 'Poland',\n",
              " 'phone': '48 62 725 5400',\n",
              " 'fax': '48 62 725 5467',\n",
              " 'website': 'https://www.grupadino.pl',\n",
              " 'industry': 'Grocery Stores',\n",
              " 'industryKey': 'grocery-stores',\n",
              " 'industryDisp': 'Grocery Stores',\n",
              " 'sector': 'Consumer Defensive',\n",
              " 'sectorKey': 'consumer-defensive',\n",
              " 'sectorDisp': 'Consumer Defensive',\n",
              " 'longBusinessSummary': \"Dino Polska S.A., together with its subsidiaries, operates a network of mid-sized grocery supermarkets under the Dino brand name in Poland. The company offers range of food products, including meat, poultry and cold cuts, fruit and vegetables, bread, and dairy products, as well as other food, chemical, and cosmetic products; grocery products, such as children's food, breakfast products, ready to eat meals, beverages, candies, snacks, frozen goods, processed goods, oils, grain and bulk products, condiments, and alcohol and cigarettes; and non-grocery products, which include flowers, cleaning agents, sanitary articles, pet food, seasonal products, and small household appliance products. It also rents and operates owned and leased real estate; purchase and sale of real estate; retails automotive fuel; manufactures and processes refined petroleum products; and operates beverages or tobacco predominating stores, as well as offers warehousing and storage, and financial services. The company was founded in 1999 and is based in Krotoszyn, Poland.\",\n",
              " 'fullTimeEmployees': 47149,\n",
              " 'companyOfficers': [{'maxAge': 1,\n",
              "   'name': 'Mr. Michal  Krauze',\n",
              "   'age': 40,\n",
              "   'title': 'CFO & Member of Management Board',\n",
              "   'yearBorn': 1983,\n",
              "   'fiscalYear': 2023,\n",
              "   'totalPay': 1544500,\n",
              "   'exercisedValue': 0,\n",
              "   'unexercisedValue': 0},\n",
              "  {'maxAge': 1,\n",
              "   'name': 'Ms. Izabela  Biadala',\n",
              "   'age': 48,\n",
              "   'title': 'Director of Operations & Administration and Member of the Management Board',\n",
              "   'yearBorn': 1975,\n",
              "   'fiscalYear': 2023,\n",
              "   'totalPay': 564500,\n",
              "   'exercisedValue': 0,\n",
              "   'unexercisedValue': 0},\n",
              "  {'maxAge': 1,\n",
              "   'name': 'Mr. Piotr  Scigala',\n",
              "   'age': 66,\n",
              "   'title': 'Director of the Control Department & Member of the Management Board',\n",
              "   'yearBorn': 1957,\n",
              "   'fiscalYear': 2023,\n",
              "   'totalPay': 1035100,\n",
              "   'exercisedValue': 0,\n",
              "   'unexercisedValue': 0}],\n",
              " 'compensationAsOfEpochDate': 1703980800,\n",
              " 'maxAge': 86400,\n",
              " 'priceHint': 2,\n",
              " 'previousClose': 393.2,\n",
              " 'open': 393.0,\n",
              " 'dayLow': 387.4,\n",
              " 'dayHigh': 400.0,\n",
              " 'regularMarketPreviousClose': 393.2,\n",
              " 'regularMarketOpen': 393.0,\n",
              " 'regularMarketDayLow': 387.4,\n",
              " 'regularMarketDayHigh': 400.0,\n",
              " 'beta': 0.559,\n",
              " 'trailingPE': 26.970528,\n",
              " 'forwardPE': 20.405687,\n",
              " 'volume': 160841,\n",
              " 'regularMarketVolume': 160841,\n",
              " 'averageVolume': 363542,\n",
              " 'averageVolume10days': 404634,\n",
              " 'averageDailyVolume10Day': 404634,\n",
              " 'bid': 393.3,\n",
              " 'ask': 393.6,\n",
              " 'marketCap': 38578741248,\n",
              " 'fiftyTwoWeekLow': 296.8,\n",
              " 'fiftyTwoWeekHigh': 482.1,\n",
              " 'priceToSalesTrailing12Months': 1.367091,\n",
              " 'fiftyDayAverage': 336.95,\n",
              " 'twoHundredDayAverage': 379.6135,\n",
              " 'currency': 'PLN',\n",
              " 'enterpriseValue': 39134703616,\n",
              " 'profitMargins': 0.050669998,\n",
              " 'floatShares': 47879795,\n",
              " 'sharesOutstanding': 98040000,\n",
              " 'heldPercentInsiders': 0.51163,\n",
              " 'heldPercentInstitutions': 0.21275999,\n",
              " 'impliedSharesOutstanding': 100413000,\n",
              " 'bookValue': 67.862,\n",
              " 'priceToBook': 5.7985325,\n",
              " 'lastFiscalYearEnd': 1703980800,\n",
              " 'nextFiscalYearEnd': 1735603200,\n",
              " 'mostRecentQuarter': 1727654400,\n",
              " 'earningsQuarterlyGrowth': 0.033,\n",
              " 'netIncomeToCommon': 1429778944,\n",
              " 'trailingEps': 14.59,\n",
              " 'forwardEps': 18.18,\n",
              " 'enterpriseToRevenue': 1.387,\n",
              " 'enterpriseToEbitda': 17.606,\n",
              " '52WeekChange': -0.1079855,\n",
              " 'SandP52WeekChange': 0.3276534,\n",
              " 'exchange': 'WSE',\n",
              " 'quoteType': 'EQUITY',\n",
              " 'symbol': 'DNP.WA',\n",
              " 'underlyingSymbol': 'DNP.WA',\n",
              " 'shortName': 'DINOPL',\n",
              " 'longName': 'Dino Polska S.A.',\n",
              " 'firstTradeDateEpochUtc': 1492585200,\n",
              " 'timeZoneFullName': 'Europe/Warsaw',\n",
              " 'timeZoneShortName': 'CET',\n",
              " 'uuid': '414f1b04-3c47-3fae-beff-037f4c18ea8c',\n",
              " 'messageBoardId': 'finmb_107478492',\n",
              " 'gmtOffSetMilliseconds': 3600000,\n",
              " 'currentPrice': 393.5,\n",
              " 'targetHighPrice': 527.0,\n",
              " 'targetLowPrice': 326.8,\n",
              " 'targetMeanPrice': 406.7,\n",
              " 'targetMedianPrice': 416.5,\n",
              " 'recommendationMean': 2.21429,\n",
              " 'recommendationKey': 'buy',\n",
              " 'numberOfAnalystOpinions': 14,\n",
              " 'totalCash': 573731008,\n",
              " 'totalCashPerShare': 5.852,\n",
              " 'ebitda': 2222796032,\n",
              " 'totalDebt': 1142023040,\n",
              " 'quickRatio': 0.218,\n",
              " 'currentRatio': 0.831,\n",
              " 'totalRevenue': 28219586560,\n",
              " 'debtToEquity': 17.121,\n",
              " 'revenuePerShare': 287.837,\n",
              " 'returnOnAssets': 0.10873,\n",
              " 'returnOnEquity': 0.23977,\n",
              " 'freeCashflow': 231489504,\n",
              " 'operatingCashflow': 2001256960,\n",
              " 'earningsGrowth': 0.032,\n",
              " 'revenueGrowth': 0.106,\n",
              " 'grossMargins': 0.23076999,\n",
              " 'ebitdaMargins': 0.07877,\n",
              " 'operatingMargins': 0.074640006,\n",
              " 'financialCurrency': 'PLN',\n",
              " 'trailingPegRatio': None}"
            ]
          },
          "metadata": {},
          "execution_count": 2
        }
      ],
      "source": [
        "yf.Ticker('DNP.WA').info"
      ]
    },
    {
      "cell_type": "code",
      "execution_count": 6,
      "metadata": {
        "id": "9pAKdnVNDMWe",
        "collapsed": true
      },
      "outputs": [],
      "source": [
        "company_data = []\n",
        "\n",
        "for ticker in tickers:\n",
        "    stock = yf.Ticker(ticker)\n",
        "    info = stock.info\n",
        "    sector = info.get('sector')\n",
        "    industry = info.get('industry')\n",
        "    name = info.get('longName')\n",
        "    short_name = info.get('shortName')\n",
        "    roe = info.get('returnOnEquity')\n",
        "    roa = info.get('returnOnAssets')\n",
        "    p_to_book = info.get('priceToBook')\n",
        "    debt_to_eq = info.get('debtToEquity')\n",
        "    beta = info.get('beta')\n",
        "\n",
        "    company_data.append({\n",
        "        'longName': name,\n",
        "        'shortName': short_name,\n",
        "        'ticker': ticker,\n",
        "        'sector': sector,\n",
        "        'industry': industry,\n",
        "        'returnOnEquity': roe,\n",
        "        'returnOnAssets': roa,\n",
        "        'p_to_book': p_to_book,\n",
        "        'debt_to_eq': debt_to_eq,\n",
        "        'beta': beta\n",
        "\n",
        "    })\n",
        "\n",
        "company_df = pd.DataFrame(company_data)"
      ]
    },
    {
      "cell_type": "code",
      "source": [
        "company_df.to_csv(\"/content/drive/MyDrive/Projects/network-analysis/company_financials_28102024\", index=False)"
      ],
      "metadata": {
        "id": "VBHS_kQhUt1O"
      },
      "execution_count": 7,
      "outputs": []
    },
    {
      "cell_type": "markdown",
      "source": [
        "# 3. Creating a DataFrame with Company Officers.\n",
        "In this section, I retrieved data on the officers of each company listed. For each ticker, I extracted officer names and titles and stored them in a structured format. This information will be useful for mapping connections and relationships among company officials in the network analysis."
      ],
      "metadata": {
        "id": "BHTKdwzHHu-b"
      }
    },
    {
      "cell_type": "code",
      "source": [
        "officers_data = []\n",
        "\n",
        "for ticker in tickers:\n",
        "  stock = yf.Ticker(ticker)\n",
        "  info = stock.info\n",
        "  name = info.get('longName', 'No data')\n",
        "  short_name = info.get('shortName', 'No data')\n",
        "  companyOfficers = info.get('companyOfficers', [])\n",
        "\n",
        "  for officer in companyOfficers:\n",
        "    officer_name = officer.get('name', 'No data')\n",
        "    officer_title = officer.get('title', 'No data')\n",
        "\n",
        "    officers_data.append({\n",
        "        'officer_name': officer_name,\n",
        "        'officer_title': officer_title,\n",
        "        'ticker': ticker\n",
        "    })\n",
        "\n",
        "officer_df = pd.DataFrame(officers_data)\n",
        "officer_df"
      ],
      "metadata": {
        "colab": {
          "base_uri": "https://localhost:8080/",
          "height": 423
        },
        "id": "xKoRSeK4H8Vq",
        "outputId": "e1fa4ec2-269f-425a-be33-3111e6959a6e"
      },
      "execution_count": null,
      "outputs": [
        {
          "output_type": "execute_result",
          "data": {
            "text/plain": [
              "                        officer_name  \\\n",
              "0          Mr. Miroslaw  Janisiewicz   \n",
              "1       Mr. Przemyslaw Piotr Marszal   \n",
              "2           Mr. Grzegorz  Miechowski   \n",
              "3     Mr. Michal Wojciech Drozdowski   \n",
              "4                 Mr. Pawel  Feldman   \n",
              "...                              ...   \n",
              "1592              Mr. Wieslaw  Nowak   \n",
              "1593          Mr. Marcin  Wisniewski   \n",
              "1594               Mr. Maciej  Nowak   \n",
              "1595            Mr. Jerzy  Czeremuga   \n",
              "1596               Ms. Anna  Mroczek   \n",
              "\n",
              "                                          officer_title  ticker  \n",
              "0                     President of the Management Board  06N.WA  \n",
              "1                     President of the Management Board  11B.WA  \n",
              "2                            Member of Management Board  11B.WA  \n",
              "3                        Member of the Management Board  11B.WA  \n",
              "4                        Member of the Management Board  11B.WA  \n",
              "...                                                 ...     ...  \n",
              "1592            President of the Management Board & CEO  ZUE.WA  \n",
              "1593  Vice President of the Management Board & Direc...  ZUE.WA  \n",
              "1594  Vice President of Management Board and Legal &...  ZUE.WA  \n",
              "1595  Vice President of the Management Board & Direc...  ZUE.WA  \n",
              "1596  Vice-President of Management Board & Financial...  ZUE.WA  \n",
              "\n",
              "[1597 rows x 3 columns]"
            ],
            "text/html": [
              "\n",
              "  <div id=\"df-c5e650bd-c858-4e02-86b6-d358cfd0a144\" class=\"colab-df-container\">\n",
              "    <div>\n",
              "<style scoped>\n",
              "    .dataframe tbody tr th:only-of-type {\n",
              "        vertical-align: middle;\n",
              "    }\n",
              "\n",
              "    .dataframe tbody tr th {\n",
              "        vertical-align: top;\n",
              "    }\n",
              "\n",
              "    .dataframe thead th {\n",
              "        text-align: right;\n",
              "    }\n",
              "</style>\n",
              "<table border=\"1\" class=\"dataframe\">\n",
              "  <thead>\n",
              "    <tr style=\"text-align: right;\">\n",
              "      <th></th>\n",
              "      <th>officer_name</th>\n",
              "      <th>officer_title</th>\n",
              "      <th>ticker</th>\n",
              "    </tr>\n",
              "  </thead>\n",
              "  <tbody>\n",
              "    <tr>\n",
              "      <th>0</th>\n",
              "      <td>Mr. Miroslaw  Janisiewicz</td>\n",
              "      <td>President of the Management Board</td>\n",
              "      <td>06N.WA</td>\n",
              "    </tr>\n",
              "    <tr>\n",
              "      <th>1</th>\n",
              "      <td>Mr. Przemyslaw Piotr Marszal</td>\n",
              "      <td>President of the Management Board</td>\n",
              "      <td>11B.WA</td>\n",
              "    </tr>\n",
              "    <tr>\n",
              "      <th>2</th>\n",
              "      <td>Mr. Grzegorz  Miechowski</td>\n",
              "      <td>Member of Management Board</td>\n",
              "      <td>11B.WA</td>\n",
              "    </tr>\n",
              "    <tr>\n",
              "      <th>3</th>\n",
              "      <td>Mr. Michal Wojciech Drozdowski</td>\n",
              "      <td>Member of the Management Board</td>\n",
              "      <td>11B.WA</td>\n",
              "    </tr>\n",
              "    <tr>\n",
              "      <th>4</th>\n",
              "      <td>Mr. Pawel  Feldman</td>\n",
              "      <td>Member of the Management Board</td>\n",
              "      <td>11B.WA</td>\n",
              "    </tr>\n",
              "    <tr>\n",
              "      <th>...</th>\n",
              "      <td>...</td>\n",
              "      <td>...</td>\n",
              "      <td>...</td>\n",
              "    </tr>\n",
              "    <tr>\n",
              "      <th>1592</th>\n",
              "      <td>Mr. Wieslaw  Nowak</td>\n",
              "      <td>President of the Management Board &amp; CEO</td>\n",
              "      <td>ZUE.WA</td>\n",
              "    </tr>\n",
              "    <tr>\n",
              "      <th>1593</th>\n",
              "      <td>Mr. Marcin  Wisniewski</td>\n",
              "      <td>Vice President of the Management Board &amp; Direc...</td>\n",
              "      <td>ZUE.WA</td>\n",
              "    </tr>\n",
              "    <tr>\n",
              "      <th>1594</th>\n",
              "      <td>Mr. Maciej  Nowak</td>\n",
              "      <td>Vice President of Management Board and Legal &amp;...</td>\n",
              "      <td>ZUE.WA</td>\n",
              "    </tr>\n",
              "    <tr>\n",
              "      <th>1595</th>\n",
              "      <td>Mr. Jerzy  Czeremuga</td>\n",
              "      <td>Vice President of the Management Board &amp; Direc...</td>\n",
              "      <td>ZUE.WA</td>\n",
              "    </tr>\n",
              "    <tr>\n",
              "      <th>1596</th>\n",
              "      <td>Ms. Anna  Mroczek</td>\n",
              "      <td>Vice-President of Management Board &amp; Financial...</td>\n",
              "      <td>ZUE.WA</td>\n",
              "    </tr>\n",
              "  </tbody>\n",
              "</table>\n",
              "<p>1597 rows × 3 columns</p>\n",
              "</div>\n",
              "    <div class=\"colab-df-buttons\">\n",
              "\n",
              "  <div class=\"colab-df-container\">\n",
              "    <button class=\"colab-df-convert\" onclick=\"convertToInteractive('df-c5e650bd-c858-4e02-86b6-d358cfd0a144')\"\n",
              "            title=\"Convert this dataframe to an interactive table.\"\n",
              "            style=\"display:none;\">\n",
              "\n",
              "  <svg xmlns=\"http://www.w3.org/2000/svg\" height=\"24px\" viewBox=\"0 -960 960 960\">\n",
              "    <path d=\"M120-120v-720h720v720H120Zm60-500h600v-160H180v160Zm220 220h160v-160H400v160Zm0 220h160v-160H400v160ZM180-400h160v-160H180v160Zm440 0h160v-160H620v160ZM180-180h160v-160H180v160Zm440 0h160v-160H620v160Z\"/>\n",
              "  </svg>\n",
              "    </button>\n",
              "\n",
              "  <style>\n",
              "    .colab-df-container {\n",
              "      display:flex;\n",
              "      gap: 12px;\n",
              "    }\n",
              "\n",
              "    .colab-df-convert {\n",
              "      background-color: #E8F0FE;\n",
              "      border: none;\n",
              "      border-radius: 50%;\n",
              "      cursor: pointer;\n",
              "      display: none;\n",
              "      fill: #1967D2;\n",
              "      height: 32px;\n",
              "      padding: 0 0 0 0;\n",
              "      width: 32px;\n",
              "    }\n",
              "\n",
              "    .colab-df-convert:hover {\n",
              "      background-color: #E2EBFA;\n",
              "      box-shadow: 0px 1px 2px rgba(60, 64, 67, 0.3), 0px 1px 3px 1px rgba(60, 64, 67, 0.15);\n",
              "      fill: #174EA6;\n",
              "    }\n",
              "\n",
              "    .colab-df-buttons div {\n",
              "      margin-bottom: 4px;\n",
              "    }\n",
              "\n",
              "    [theme=dark] .colab-df-convert {\n",
              "      background-color: #3B4455;\n",
              "      fill: #D2E3FC;\n",
              "    }\n",
              "\n",
              "    [theme=dark] .colab-df-convert:hover {\n",
              "      background-color: #434B5C;\n",
              "      box-shadow: 0px 1px 3px 1px rgba(0, 0, 0, 0.15);\n",
              "      filter: drop-shadow(0px 1px 2px rgba(0, 0, 0, 0.3));\n",
              "      fill: #FFFFFF;\n",
              "    }\n",
              "  </style>\n",
              "\n",
              "    <script>\n",
              "      const buttonEl =\n",
              "        document.querySelector('#df-c5e650bd-c858-4e02-86b6-d358cfd0a144 button.colab-df-convert');\n",
              "      buttonEl.style.display =\n",
              "        google.colab.kernel.accessAllowed ? 'block' : 'none';\n",
              "\n",
              "      async function convertToInteractive(key) {\n",
              "        const element = document.querySelector('#df-c5e650bd-c858-4e02-86b6-d358cfd0a144');\n",
              "        const dataTable =\n",
              "          await google.colab.kernel.invokeFunction('convertToInteractive',\n",
              "                                                    [key], {});\n",
              "        if (!dataTable) return;\n",
              "\n",
              "        const docLinkHtml = 'Like what you see? Visit the ' +\n",
              "          '<a target=\"_blank\" href=https://colab.research.google.com/notebooks/data_table.ipynb>data table notebook</a>'\n",
              "          + ' to learn more about interactive tables.';\n",
              "        element.innerHTML = '';\n",
              "        dataTable['output_type'] = 'display_data';\n",
              "        await google.colab.output.renderOutput(dataTable, element);\n",
              "        const docLink = document.createElement('div');\n",
              "        docLink.innerHTML = docLinkHtml;\n",
              "        element.appendChild(docLink);\n",
              "      }\n",
              "    </script>\n",
              "  </div>\n",
              "\n",
              "\n",
              "<div id=\"df-f7eff9ad-a38a-4931-ad62-f4466161cb0c\">\n",
              "  <button class=\"colab-df-quickchart\" onclick=\"quickchart('df-f7eff9ad-a38a-4931-ad62-f4466161cb0c')\"\n",
              "            title=\"Suggest charts\"\n",
              "            style=\"display:none;\">\n",
              "\n",
              "<svg xmlns=\"http://www.w3.org/2000/svg\" height=\"24px\"viewBox=\"0 0 24 24\"\n",
              "     width=\"24px\">\n",
              "    <g>\n",
              "        <path d=\"M19 3H5c-1.1 0-2 .9-2 2v14c0 1.1.9 2 2 2h14c1.1 0 2-.9 2-2V5c0-1.1-.9-2-2-2zM9 17H7v-7h2v7zm4 0h-2V7h2v10zm4 0h-2v-4h2v4z\"/>\n",
              "    </g>\n",
              "</svg>\n",
              "  </button>\n",
              "\n",
              "<style>\n",
              "  .colab-df-quickchart {\n",
              "      --bg-color: #E8F0FE;\n",
              "      --fill-color: #1967D2;\n",
              "      --hover-bg-color: #E2EBFA;\n",
              "      --hover-fill-color: #174EA6;\n",
              "      --disabled-fill-color: #AAA;\n",
              "      --disabled-bg-color: #DDD;\n",
              "  }\n",
              "\n",
              "  [theme=dark] .colab-df-quickchart {\n",
              "      --bg-color: #3B4455;\n",
              "      --fill-color: #D2E3FC;\n",
              "      --hover-bg-color: #434B5C;\n",
              "      --hover-fill-color: #FFFFFF;\n",
              "      --disabled-bg-color: #3B4455;\n",
              "      --disabled-fill-color: #666;\n",
              "  }\n",
              "\n",
              "  .colab-df-quickchart {\n",
              "    background-color: var(--bg-color);\n",
              "    border: none;\n",
              "    border-radius: 50%;\n",
              "    cursor: pointer;\n",
              "    display: none;\n",
              "    fill: var(--fill-color);\n",
              "    height: 32px;\n",
              "    padding: 0;\n",
              "    width: 32px;\n",
              "  }\n",
              "\n",
              "  .colab-df-quickchart:hover {\n",
              "    background-color: var(--hover-bg-color);\n",
              "    box-shadow: 0 1px 2px rgba(60, 64, 67, 0.3), 0 1px 3px 1px rgba(60, 64, 67, 0.15);\n",
              "    fill: var(--button-hover-fill-color);\n",
              "  }\n",
              "\n",
              "  .colab-df-quickchart-complete:disabled,\n",
              "  .colab-df-quickchart-complete:disabled:hover {\n",
              "    background-color: var(--disabled-bg-color);\n",
              "    fill: var(--disabled-fill-color);\n",
              "    box-shadow: none;\n",
              "  }\n",
              "\n",
              "  .colab-df-spinner {\n",
              "    border: 2px solid var(--fill-color);\n",
              "    border-color: transparent;\n",
              "    border-bottom-color: var(--fill-color);\n",
              "    animation:\n",
              "      spin 1s steps(1) infinite;\n",
              "  }\n",
              "\n",
              "  @keyframes spin {\n",
              "    0% {\n",
              "      border-color: transparent;\n",
              "      border-bottom-color: var(--fill-color);\n",
              "      border-left-color: var(--fill-color);\n",
              "    }\n",
              "    20% {\n",
              "      border-color: transparent;\n",
              "      border-left-color: var(--fill-color);\n",
              "      border-top-color: var(--fill-color);\n",
              "    }\n",
              "    30% {\n",
              "      border-color: transparent;\n",
              "      border-left-color: var(--fill-color);\n",
              "      border-top-color: var(--fill-color);\n",
              "      border-right-color: var(--fill-color);\n",
              "    }\n",
              "    40% {\n",
              "      border-color: transparent;\n",
              "      border-right-color: var(--fill-color);\n",
              "      border-top-color: var(--fill-color);\n",
              "    }\n",
              "    60% {\n",
              "      border-color: transparent;\n",
              "      border-right-color: var(--fill-color);\n",
              "    }\n",
              "    80% {\n",
              "      border-color: transparent;\n",
              "      border-right-color: var(--fill-color);\n",
              "      border-bottom-color: var(--fill-color);\n",
              "    }\n",
              "    90% {\n",
              "      border-color: transparent;\n",
              "      border-bottom-color: var(--fill-color);\n",
              "    }\n",
              "  }\n",
              "</style>\n",
              "\n",
              "  <script>\n",
              "    async function quickchart(key) {\n",
              "      const quickchartButtonEl =\n",
              "        document.querySelector('#' + key + ' button');\n",
              "      quickchartButtonEl.disabled = true;  // To prevent multiple clicks.\n",
              "      quickchartButtonEl.classList.add('colab-df-spinner');\n",
              "      try {\n",
              "        const charts = await google.colab.kernel.invokeFunction(\n",
              "            'suggestCharts', [key], {});\n",
              "      } catch (error) {\n",
              "        console.error('Error during call to suggestCharts:', error);\n",
              "      }\n",
              "      quickchartButtonEl.classList.remove('colab-df-spinner');\n",
              "      quickchartButtonEl.classList.add('colab-df-quickchart-complete');\n",
              "    }\n",
              "    (() => {\n",
              "      let quickchartButtonEl =\n",
              "        document.querySelector('#df-f7eff9ad-a38a-4931-ad62-f4466161cb0c button');\n",
              "      quickchartButtonEl.style.display =\n",
              "        google.colab.kernel.accessAllowed ? 'block' : 'none';\n",
              "    })();\n",
              "  </script>\n",
              "</div>\n",
              "\n",
              "  <div id=\"id_24f692e2-553f-4b9d-9aa9-d7df912716b7\">\n",
              "    <style>\n",
              "      .colab-df-generate {\n",
              "        background-color: #E8F0FE;\n",
              "        border: none;\n",
              "        border-radius: 50%;\n",
              "        cursor: pointer;\n",
              "        display: none;\n",
              "        fill: #1967D2;\n",
              "        height: 32px;\n",
              "        padding: 0 0 0 0;\n",
              "        width: 32px;\n",
              "      }\n",
              "\n",
              "      .colab-df-generate:hover {\n",
              "        background-color: #E2EBFA;\n",
              "        box-shadow: 0px 1px 2px rgba(60, 64, 67, 0.3), 0px 1px 3px 1px rgba(60, 64, 67, 0.15);\n",
              "        fill: #174EA6;\n",
              "      }\n",
              "\n",
              "      [theme=dark] .colab-df-generate {\n",
              "        background-color: #3B4455;\n",
              "        fill: #D2E3FC;\n",
              "      }\n",
              "\n",
              "      [theme=dark] .colab-df-generate:hover {\n",
              "        background-color: #434B5C;\n",
              "        box-shadow: 0px 1px 3px 1px rgba(0, 0, 0, 0.15);\n",
              "        filter: drop-shadow(0px 1px 2px rgba(0, 0, 0, 0.3));\n",
              "        fill: #FFFFFF;\n",
              "      }\n",
              "    </style>\n",
              "    <button class=\"colab-df-generate\" onclick=\"generateWithVariable('officer_df')\"\n",
              "            title=\"Generate code using this dataframe.\"\n",
              "            style=\"display:none;\">\n",
              "\n",
              "  <svg xmlns=\"http://www.w3.org/2000/svg\" height=\"24px\"viewBox=\"0 0 24 24\"\n",
              "       width=\"24px\">\n",
              "    <path d=\"M7,19H8.4L18.45,9,17,7.55,7,17.6ZM5,21V16.75L18.45,3.32a2,2,0,0,1,2.83,0l1.4,1.43a1.91,1.91,0,0,1,.58,1.4,1.91,1.91,0,0,1-.58,1.4L9.25,21ZM18.45,9,17,7.55Zm-12,3A5.31,5.31,0,0,0,4.9,8.1,5.31,5.31,0,0,0,1,6.5,5.31,5.31,0,0,0,4.9,4.9,5.31,5.31,0,0,0,6.5,1,5.31,5.31,0,0,0,8.1,4.9,5.31,5.31,0,0,0,12,6.5,5.46,5.46,0,0,0,6.5,12Z\"/>\n",
              "  </svg>\n",
              "    </button>\n",
              "    <script>\n",
              "      (() => {\n",
              "      const buttonEl =\n",
              "        document.querySelector('#id_24f692e2-553f-4b9d-9aa9-d7df912716b7 button.colab-df-generate');\n",
              "      buttonEl.style.display =\n",
              "        google.colab.kernel.accessAllowed ? 'block' : 'none';\n",
              "\n",
              "      buttonEl.onclick = () => {\n",
              "        google.colab.notebook.generateWithVariable('officer_df');\n",
              "      }\n",
              "      })();\n",
              "    </script>\n",
              "  </div>\n",
              "\n",
              "    </div>\n",
              "  </div>\n"
            ],
            "application/vnd.google.colaboratory.intrinsic+json": {
              "type": "dataframe",
              "variable_name": "officer_df",
              "summary": "{\n  \"name\": \"officer_df\",\n  \"rows\": 1597,\n  \"fields\": [\n    {\n      \"column\": \"officer_name\",\n      \"properties\": {\n        \"dtype\": \"string\",\n        \"num_unique_values\": 1583,\n        \"samples\": [\n          \"Mr. Tomasz  Duda\",\n          \"Mr. Marcin Piotr Iwinski\",\n          \"Mr. Konrad  Weiske\"\n        ],\n        \"semantic_type\": \"\",\n        \"description\": \"\"\n      }\n    },\n    {\n      \"column\": \"officer_title\",\n      \"properties\": {\n        \"dtype\": \"category\",\n        \"num_unique_values\": 735,\n        \"samples\": [\n          \"Head of Information Technology\",\n          \"Group CFO & Executive Director\",\n          \"C.B.O\"\n        ],\n        \"semantic_type\": \"\",\n        \"description\": \"\"\n      }\n    },\n    {\n      \"column\": \"ticker\",\n      \"properties\": {\n        \"dtype\": \"category\",\n        \"num_unique_values\": 320,\n        \"samples\": [\n          \"MAK.WA\",\n          \"PKO.WA\",\n          \"ASB.WA\"\n        ],\n        \"semantic_type\": \"\",\n        \"description\": \"\"\n      }\n    }\n  ]\n}"
            }
          },
          "metadata": {},
          "execution_count": 10
        }
      ]
    },
    {
      "cell_type": "code",
      "source": [
        "officer_df.to_csv(\"/content/drive/MyDrive/Projects/network-analysis/company_officers_28102024\", index=False)"
      ],
      "metadata": {
        "id": "NYJk2UpPY4zT"
      },
      "execution_count": null,
      "outputs": []
    },
    {
      "cell_type": "markdown",
      "metadata": {
        "id": "kYa8RPoRPp_2"
      },
      "source": [
        "#4. Collecting Shareholder Data\n",
        "Using the previously gathered ticker list from step 1, I accessed shareholder data for each company. Each table retrieved from Stooq was processed, assigned a ticker symbol, and combined into a single DataFrame."
      ]
    },
    {
      "cell_type": "code",
      "execution_count": null,
      "metadata": {
        "id": "W2cF3UV724lX",
        "collapsed": true
      },
      "outputs": [],
      "source": [
        "urls = []\n",
        "for company in ticker_list:\n",
        "  url = f'https://stooq.pl/q/h/?s={company}'\n",
        "  urls.append(url)"
      ]
    },
    {
      "cell_type": "code",
      "execution_count": null,
      "metadata": {
        "id": "JoSizD_Y43HY"
      },
      "outputs": [],
      "source": [
        "wig_tables = []\n",
        "for index, url in enumerate(urls):\n",
        "  table = pd.read_html(url)[1].copy()\n",
        "  ticker_symbol = ticker_list[index]\n",
        "  table['ticker'] = ticker_symbol\n",
        "  wig_tables.append(table)"
      ]
    },
    {
      "cell_type": "code",
      "source": [
        "final_wig_table = pd.concat(wig_tables, ignore_index=True)"
      ],
      "metadata": {
        "id": "m1FQKNVRXcej"
      },
      "execution_count": null,
      "outputs": []
    },
    {
      "cell_type": "code",
      "source": [
        "final_wig_table['Lp'] = pd.to_numeric(final_wig_table['Lp'], errors='coerce')"
      ],
      "metadata": {
        "id": "vyCJUJzCjJfs"
      },
      "execution_count": null,
      "outputs": []
    },
    {
      "cell_type": "code",
      "source": [
        "final_wig_table = final_wig_table.dropna(subset=['Lp'])"
      ],
      "metadata": {
        "id": "nV_daEyKjw-V"
      },
      "execution_count": null,
      "outputs": []
    },
    {
      "cell_type": "code",
      "source": [
        "final_wig_table.to_csv(\"/content/drive/MyDrive/Projects/network-analysis/shareholder_data_15102024\", index=False)"
      ],
      "metadata": {
        "id": "Vc3EK1-mkDsj"
      },
      "execution_count": null,
      "outputs": []
    },
    {
      "cell_type": "markdown",
      "source": [
        "#5. Conclusion\n",
        "\n",
        "All gathered data has been saved in CSV format and will serve as a foundation for the next phase, where it will be transformed for network analysis."
      ],
      "metadata": {
        "id": "g-aJosjSXuCe"
      }
    }
  ],
  "metadata": {
    "colab": {
      "provenance": [],
      "mount_file_id": "1PPAStWuFlghZOqaXATOAy8dfq38f2JlN",
      "authorship_tag": "ABX9TyOATJ4p7sIOn77IF/Eaj+lS",
      "include_colab_link": true
    },
    "kernelspec": {
      "display_name": "Python 3",
      "name": "python3"
    },
    "language_info": {
      "name": "python"
    }
  },
  "nbformat": 4,
  "nbformat_minor": 0
}